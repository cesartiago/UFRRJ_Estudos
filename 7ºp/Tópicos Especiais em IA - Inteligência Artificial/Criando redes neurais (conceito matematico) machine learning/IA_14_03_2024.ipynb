{
  "nbformat": 4,
  "nbformat_minor": 0,
  "metadata": {
    "colab": {
      "provenance": []
    },
    "kernelspec": {
      "name": "python3",
      "display_name": "Python 3"
    },
    "language_info": {
      "name": "python"
    }
  },
  "cells": [
    {
      "cell_type": "code",
      "source": [
        "\n",
        "w0 = 0.02 #USAMOS ESSE PESO NA 1º VEZ \"RODADA - ENTRE ASPAS, pq n é 1 inteira\"\n",
        "w1 = -0.02\n",
        "w2 =  0.02\n",
        "\n",
        "\n",
        "lr = 0.25 #taxa de aprendizado = lerning rate\n"
      ],
      "metadata": {
        "id": "RdchUqkRUT2K"
      },
      "execution_count": null,
      "outputs": []
    },
    {
      "cell_type": "code",
      "execution_count": null,
      "metadata": {
        "id": "8lxQl6GpPFWR"
      },
      "outputs": [],
      "source": [
        "import numpy as np\n",
        "x1=[-1,0,0] #Aqui é uma lista - NA REAL SEIRA X ,<----- UMA VEZ OX1 VETOR, DEPOIS O VETOR X2, VETOR X3, X4.\n",
        "x1 = np.array(x1) #Aqui vira um array, pro numpy fazer. Ele só trabalha com array.\n",
        "#w = [-0.05, -0.02, 0.02] Esse era da primeira vez \"\"\"\"RODADA\"<--------\n",
        "#w = np.array(w)\n",
        "\n"
      ]
    },
    {
      "cell_type": "code",
      "source": [
        "x1.size\n",
        "w.size"
      ],
      "metadata": {
        "colab": {
          "base_uri": "https://localhost:8080/"
        },
        "id": "OOUcpOCPQhzy",
        "outputId": "bef86929-e72e-4708-ab8b-3608a2d1632c"
      },
      "execution_count": null,
      "outputs": [
        {
          "output_type": "execute_result",
          "data": {
            "text/plain": [
              "3"
            ]
          },
          "metadata": {},
          "execution_count": 209
        }
      ]
    },
    {
      "cell_type": "code",
      "source": [
        "#x1 = [-1,0,1] <--------\n",
        "#w = [-0.05, -0.02, 0.02] <--------\n",
        "#w = np.array(w) <--------"
      ],
      "metadata": {
        "id": "mGHR4pVjP5Lj"
      },
      "execution_count": null,
      "outputs": []
    },
    {
      "cell_type": "code",
      "source": [
        "xw = np.dot (x1,np.transpose(w)) #aqui estamos fazendo a transposiçao, apenas para fazer a multiplicação. isso e necessario, mas parece que ele faz sozinho JÁ NO NP.DOT. (Tipo, a matriz teria que ta em pe, é por isso)\n",
        "print (np.transpose(w))"
      ],
      "metadata": {
        "colab": {
          "base_uri": "https://localhost:8080/"
        },
        "id": "oI0UVg4FROMq",
        "outputId": "1ad97b9f-18f5-4bfa-a9ee-0d464e16e5e2"
      },
      "execution_count": null,
      "outputs": [
        {
          "output_type": "stream",
          "name": "stdout",
          "text": [
            "[ 0.02 -0.02  0.02]\n"
          ]
        }
      ]
    },
    {
      "cell_type": "code",
      "source": [
        "xw = np.dot(x1,w) #dot para a multiplicação de matrizes"
      ],
      "metadata": {
        "id": "x4uVnOCsQId5"
      },
      "execution_count": null,
      "outputs": []
    },
    {
      "cell_type": "code",
      "source": [
        "if xw > 0:\n",
        "  y = 1\n",
        "  print (y)\n",
        "else:\n",
        "  y = 0\n",
        "  print (y)"
      ],
      "metadata": {
        "colab": {
          "base_uri": "https://localhost:8080/"
        },
        "id": "0kCvqNKYSNoa",
        "outputId": "b0d1e3ef-4e06-4e6a-9f91-436c0314b238"
      },
      "execution_count": null,
      "outputs": [
        {
          "output_type": "stream",
          "name": "stdout",
          "text": [
            "0\n"
          ]
        }
      ]
    },
    {
      "cell_type": "code",
      "source": [
        "#t = 0 <------ primeira\n",
        "t = 1\n",
        "if y != 0:\n",
        "  w0 = w0 - lr*(y-t)*x1[0]\n",
        "  w1 = w1 - lr*(y-t)*x1[1]\n",
        "  w2 = w2 - lr*(y-t)*x1[2]\n",
        "\n",
        "print (w0,w1,w2)"
      ],
      "metadata": {
        "colab": {
          "base_uri": "https://localhost:8080/"
        },
        "id": "cmVuTGvOT_Y7",
        "outputId": "5e49f65a-96a8-46d5-ea5e-59c9795f0e9a"
      },
      "execution_count": null,
      "outputs": [
        {
          "output_type": "stream",
          "name": "stdout",
          "text": [
            "0.02 -0.02 0.02\n"
          ]
        }
      ]
    },
    {
      "cell_type": "code",
      "source": [
        "w = [w0,w1,w2] #novos pesos\n",
        "w = np.array(w)\n",
        "print (np.transpose(w))"
      ],
      "metadata": {
        "colab": {
          "base_uri": "https://localhost:8080/"
        },
        "id": "Hm8_EgkTYGYq",
        "outputId": "91a1508d-c019-485f-c571-eb71f4cee67b"
      },
      "execution_count": null,
      "outputs": [
        {
          "output_type": "stream",
          "name": "stdout",
          "text": [
            "[ 0.02 -0.02  0.02]\n"
          ]
        }
      ]
    }
  ]
}