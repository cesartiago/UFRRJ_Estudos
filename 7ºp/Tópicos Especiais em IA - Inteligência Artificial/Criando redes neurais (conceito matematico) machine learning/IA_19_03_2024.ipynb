{
  "nbformat": 4,
  "nbformat_minor": 0,
  "metadata": {
    "colab": {
      "provenance": []
    },
    "kernelspec": {
      "name": "python3",
      "display_name": "Python 3"
    },
    "language_info": {
      "name": "python"
    }
  },
  "cells": [
    {
      "cell_type": "code",
      "source": [
        "import numpy as np"
      ],
      "metadata": {
        "id": "E2Npka7VCj9B"
      },
      "execution_count": null,
      "outputs": []
    },
    {
      "cell_type": "code",
      "execution_count": null,
      "metadata": {
        "id": "nb6rvF3dAwUC"
      },
      "outputs": [],
      "source": [
        "w = np.array ([0.05, -0.02, 0.02]) #dados iniciais \"supostamente aleatórios\"\n",
        "lr = 0.25 #taxa de aprendizado = lerning rate\n",
        "\n"
      ]
    },
    {
      "cell_type": "code",
      "source": [
        "'''\n",
        "x1 = np.array(x1) #Aqui vira um array, pro numpy fazer. Ele só trabalha com array.\n",
        "'''\n",
        "#a primeira entrada é do bias. Sempre -1.\n",
        "dados = [[-1,0,0,0],\n",
        "       [-1,0,1,1],\n",
        "       [-1,1,0,1],\n",
        "       [-1,1,1,1],\n",
        "       ]\n",
        "\n",
        "'''\n",
        "Próxima aula.\n",
        "dados2 = dados\n",
        "np.random.shuffle(dados2)\n",
        "print(dados2)\n",
        "\n",
        "'''\n"
      ],
      "metadata": {
        "colab": {
          "base_uri": "https://localhost:8080/"
        },
        "id": "xxgPLNpeA5UG",
        "outputId": "6e28e624-4ebb-415c-de7e-7a005f2249ff"
      },
      "execution_count": null,
      "outputs": [
        {
          "output_type": "stream",
          "name": "stdout",
          "text": [
            "[[-1, 0, 0, 0], [-1, 0, 1, 1], [-1, 1, 1, 1], [-1, 1, 0, 1]]\n"
          ]
        }
      ]
    },
    {
      "cell_type": "code",
      "source": [
        "#dados [1][0:2] # linha \"0\"   de    \"0 à':' 2\"   - e o índice começa em 0 mesmo.\n",
        "# -1 simboliza a ultima coisa da lista\n",
        "#i é a lista em si. (Temos 4 listas aí)\n",
        "\n",
        "for it in range (10):\n",
        "  print (\"==================\")\n",
        "  print (\"interação =\", it +1) #pra dizer interação 1,2,3\n",
        "  output = [] #saidas do \"or\" - nosso tagert. Nossa saída esperada.\n",
        "  #i = 1\n",
        "\n",
        "  for i in range (4): # 4 vezes. i:0,1,2,3.\n",
        "    x = dados [i][0:3]\n",
        "    t = dados [i][-1] #-1 simboliza a ultima coisa da lista\n",
        "    x = np.array(x)\n",
        "    t = np.array(t)\n",
        "\n",
        "    if np.dot(x,w) > 0: # \"multiplica as matrizes\" (o produto escalar de dois arrays)\n",
        "      y = 1\n",
        "    else:\n",
        "      y = 0\n",
        "\n",
        "    if y!= t:\n",
        "        w[0] = w[0] - lr*(y-t)*x[0]\n",
        "        w[1] = w[1] - lr*(y-t)*x[1]\n",
        "        w[2] = w[2] - lr*(y-t)*x[2]\n",
        "\n",
        "        output.append(\"0❌\") #NÃO aprendeu, acertou o t(i) = y(i)\n",
        "    else:\n",
        "      output.append(\"1✅\") #aprendeu, acertou o t(i) = y(i)\n",
        "    print (\"input\", str(i), \"=\", round (w[0],2), round(w[1],2), round(w[2],2))\n",
        "    print (output)\n"
      ],
      "metadata": {
        "colab": {
          "base_uri": "https://localhost:8080/"
        },
        "id": "tBF2yVpxA80O",
        "outputId": "b4b7c932-26a5-4e7d-b19c-d9749e0a6b0a"
      },
      "execution_count": null,
      "outputs": [
        {
          "output_type": "stream",
          "name": "stdout",
          "text": [
            "==================\n",
            "interação = 1\n",
            "input 0 = 0.05 -0.02 0.02\n",
            "['1✅']\n",
            "input 1 = -0.2 -0.02 0.27\n",
            "['1✅', '0❌']\n",
            "input 2 = -0.2 -0.02 0.27\n",
            "['1✅', '0❌', '1✅']\n",
            "input 3 = -0.2 -0.02 0.27\n",
            "['1✅', '0❌', '1✅', '1✅']\n",
            "==================\n",
            "interação = 2\n",
            "input 0 = 0.05 -0.02 0.27\n",
            "['0❌']\n",
            "input 1 = 0.05 -0.02 0.27\n",
            "['0❌', '1✅']\n",
            "input 2 = -0.2 0.23 0.27\n",
            "['0❌', '1✅', '0❌']\n",
            "input 3 = -0.2 0.23 0.27\n",
            "['0❌', '1✅', '0❌', '1✅']\n",
            "==================\n",
            "interação = 3\n",
            "input 0 = 0.05 0.23 0.27\n",
            "['0❌']\n",
            "input 1 = 0.05 0.23 0.27\n",
            "['0❌', '1✅']\n",
            "input 2 = 0.05 0.23 0.27\n",
            "['0❌', '1✅', '1✅']\n",
            "input 3 = 0.05 0.23 0.27\n",
            "['0❌', '1✅', '1✅', '1✅']\n",
            "==================\n",
            "interação = 4\n",
            "input 0 = 0.05 0.23 0.27\n",
            "['1✅']\n",
            "input 1 = 0.05 0.23 0.27\n",
            "['1✅', '1✅']\n",
            "input 2 = 0.05 0.23 0.27\n",
            "['1✅', '1✅', '1✅']\n",
            "input 3 = 0.05 0.23 0.27\n",
            "['1✅', '1✅', '1✅', '1✅']\n",
            "==================\n",
            "interação = 5\n",
            "input 0 = 0.05 0.23 0.27\n",
            "['1✅']\n",
            "input 1 = 0.05 0.23 0.27\n",
            "['1✅', '1✅']\n",
            "input 2 = 0.05 0.23 0.27\n",
            "['1✅', '1✅', '1✅']\n",
            "input 3 = 0.05 0.23 0.27\n",
            "['1✅', '1✅', '1✅', '1✅']\n",
            "==================\n",
            "interação = 6\n",
            "input 0 = 0.05 0.23 0.27\n",
            "['1✅']\n",
            "input 1 = 0.05 0.23 0.27\n",
            "['1✅', '1✅']\n",
            "input 2 = 0.05 0.23 0.27\n",
            "['1✅', '1✅', '1✅']\n",
            "input 3 = 0.05 0.23 0.27\n",
            "['1✅', '1✅', '1✅', '1✅']\n",
            "==================\n",
            "interação = 7\n",
            "input 0 = 0.05 0.23 0.27\n",
            "['1✅']\n",
            "input 1 = 0.05 0.23 0.27\n",
            "['1✅', '1✅']\n",
            "input 2 = 0.05 0.23 0.27\n",
            "['1✅', '1✅', '1✅']\n",
            "input 3 = 0.05 0.23 0.27\n",
            "['1✅', '1✅', '1✅', '1✅']\n",
            "==================\n",
            "interação = 8\n",
            "input 0 = 0.05 0.23 0.27\n",
            "['1✅']\n",
            "input 1 = 0.05 0.23 0.27\n",
            "['1✅', '1✅']\n",
            "input 2 = 0.05 0.23 0.27\n",
            "['1✅', '1✅', '1✅']\n",
            "input 3 = 0.05 0.23 0.27\n",
            "['1✅', '1✅', '1✅', '1✅']\n",
            "==================\n",
            "interação = 9\n",
            "input 0 = 0.05 0.23 0.27\n",
            "['1✅']\n",
            "input 1 = 0.05 0.23 0.27\n",
            "['1✅', '1✅']\n",
            "input 2 = 0.05 0.23 0.27\n",
            "['1✅', '1✅', '1✅']\n",
            "input 3 = 0.05 0.23 0.27\n",
            "['1✅', '1✅', '1✅', '1✅']\n",
            "==================\n",
            "interação = 10\n",
            "input 0 = 0.05 0.23 0.27\n",
            "['1✅']\n",
            "input 1 = 0.05 0.23 0.27\n",
            "['1✅', '1✅']\n",
            "input 2 = 0.05 0.23 0.27\n",
            "['1✅', '1✅', '1✅']\n",
            "input 3 = 0.05 0.23 0.27\n",
            "['1✅', '1✅', '1✅', '1✅']\n"
          ]
        }
      ]
    },
    {
      "cell_type": "code",
      "source": [
        "print(w[0],w[1],w[2])\n",
        "'''\n",
        "SAÍDAS:\n",
        "input 0 = 0.05 -0.02 0.02\n",
        "input 1 = -0.2 -0.02 0.27\n",
        "input 2 = -0.2 -0.02 0.27\n",
        "input 3 = -0.2 -0.02 0.27\n",
        "\n",
        "'''"
      ],
      "metadata": {
        "colab": {
          "base_uri": "https://localhost:8080/",
          "height": 53
        },
        "id": "pElxc2QPD56R",
        "outputId": "cf6c38e8-f3be-45d2-c053-5220401a0ab9"
      },
      "execution_count": null,
      "outputs": [
        {
          "output_type": "stream",
          "name": "stdout",
          "text": [
            "0.04999999999999999 0.23 0.27\n"
          ]
        },
        {
          "output_type": "execute_result",
          "data": {
            "text/plain": [
              "'\\nSAÍDAS:\\ninput 0 = 0.05 -0.02 0.02\\ninput 1 = -0.2 -0.02 0.27\\ninput 2 = -0.2 -0.02 0.27\\ninput 3 = -0.2 -0.02 0.27\\n\\n'"
            ],
            "application/vnd.google.colaboratory.intrinsic+json": {
              "type": "string"
            }
          },
          "metadata": {},
          "execution_count": 5
        }
      ]
    },
    {
      "cell_type": "code",
      "source": [
        "print(w[0],w[1],w[2])\n",
        "# AS DAÍDAS SE \"i=1\" DEVEM SER: \"-0.05 -0.02 0.27\""
      ],
      "metadata": {
        "colab": {
          "base_uri": "https://localhost:8080/"
        },
        "id": "RxQ9ltEjCqtf",
        "outputId": "9e4d59f2-a3a9-41ed-e668-5f7fedf153c5"
      },
      "execution_count": null,
      "outputs": [
        {
          "output_type": "stream",
          "name": "stdout",
          "text": [
            "0.04999999999999999 0.23 0.27\n"
          ]
        }
      ]
    }
  ]
}